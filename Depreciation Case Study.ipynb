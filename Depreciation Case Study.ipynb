{
 "cells": [
  {
   "cell_type": "markdown",
   "metadata": {},
   "source": [
    "## Assigment 2\n",
    "\n",
    "\n",
    "#### -Calculate and  visualize asset lifetime value given straight line depreciation method for latest Macbook. Assume cost of 1499 euro and 3 years asset lifetime. Describe other depreciation methods and their advantages/disadvantages for this specific asset type.\n",
    "<br>\n",
    "Depreciation methods refer to the necessity for businesses to determine the projected loss of value of certain assets over time. Straight-line depreciation is a very common and simple method of calculating the expense.\n",
    "\n",
    "In order to calculate the Macbook lifetime value given \"Straight Line\" depreciation method, first we define the following formula:\n",
    "\n",
    "$Depreciation$ $Expense$ $=$ $(Cost$ $–$ $Salvage$ $value)$ $/$ $Useful$ $life$\n",
    "\n",
    "In Straight line approach an equal amount of depreciation is applied every year for the asset useful life. Is assume that the cost of the asset is 1499 euro and the useful life given in years is 3. Since we do not know the value of the salvage value we assume that it is equals 0.\n",
    "\n",
    "We are going to write a Python code in order to calculate the Depreciation Expense of our asset.\n",
    "<br>\n",
    "<br>"
   ]
  },
  {
   "cell_type": "code",
   "execution_count": 1,
   "metadata": {},
   "outputs": [
    {
     "name": "stdout",
     "output_type": "stream",
     "text": [
      "Depreciation Expense = 499.67\n"
     ]
    }
   ],
   "source": [
    "def straight_line_depreciation(cost,salvage_value,useful_life):\n",
    "    return (cost-salvage_value)/useful_life\n",
    "\n",
    "cost = 1499\n",
    "salvage_value = 0\n",
    "years = 3\n",
    "depreciation = round(straight_line_depreciation(cost,salvage_value,years),2)\n",
    "\n",
    "print(\"Depreciation Expense = %s\" % depreciation)"
   ]
  },
  {
   "cell_type": "markdown",
   "metadata": {},
   "source": [
    "Now we proceed to visualize the asset lifetime given the Depreciation Expense. Lets start first with a data frame of our analysis output.\n",
    "<br>"
   ]
  },
  {
   "cell_type": "code",
   "execution_count": 2,
   "metadata": {},
   "outputs": [
    {
     "data": {
      "text/html": [
       "<div>\n",
       "<style scoped>\n",
       "    .dataframe tbody tr th:only-of-type {\n",
       "        vertical-align: middle;\n",
       "    }\n",
       "\n",
       "    .dataframe tbody tr th {\n",
       "        vertical-align: top;\n",
       "    }\n",
       "\n",
       "    .dataframe thead th {\n",
       "        text-align: right;\n",
       "    }\n",
       "</style>\n",
       "<table border=\"1\" class=\"dataframe\">\n",
       "  <thead>\n",
       "    <tr style=\"text-align: right;\">\n",
       "      <th></th>\n",
       "      <th>Years:</th>\n",
       "      <th>MacBook Price:</th>\n",
       "      <th>Acumulated Depreciation:</th>\n",
       "      <th>Depreciation:</th>\n",
       "    </tr>\n",
       "  </thead>\n",
       "  <tbody>\n",
       "    <tr>\n",
       "      <th>0</th>\n",
       "      <td>0</td>\n",
       "      <td>1499.00</td>\n",
       "      <td>0.00</td>\n",
       "      <td>499.67</td>\n",
       "    </tr>\n",
       "    <tr>\n",
       "      <th>1</th>\n",
       "      <td>1</td>\n",
       "      <td>999.33</td>\n",
       "      <td>499.67</td>\n",
       "      <td>499.67</td>\n",
       "    </tr>\n",
       "    <tr>\n",
       "      <th>2</th>\n",
       "      <td>2</td>\n",
       "      <td>499.66</td>\n",
       "      <td>999.34</td>\n",
       "      <td>499.67</td>\n",
       "    </tr>\n",
       "    <tr>\n",
       "      <th>3</th>\n",
       "      <td>3</td>\n",
       "      <td>0.00</td>\n",
       "      <td>1499.01</td>\n",
       "      <td>499.67</td>\n",
       "    </tr>\n",
       "  </tbody>\n",
       "</table>\n",
       "</div>"
      ],
      "text/plain": [
       "   Years:  MacBook Price:  Acumulated Depreciation:  Depreciation:\n",
       "0       0         1499.00                      0.00         499.67\n",
       "1       1          999.33                    499.67         499.67\n",
       "2       2          499.66                    999.34         499.67\n",
       "3       3            0.00                   1499.01         499.67"
      ]
     },
     "execution_count": 2,
     "metadata": {},
     "output_type": "execute_result"
    }
   ],
   "source": [
    "import pandas as pd\n",
    "\n",
    "#creating the asset's values time line\n",
    "time_line_values=[1499]\n",
    "acumulated_depreciation=[0]\n",
    "for _ in range(years):\n",
    "    acumulated_depreciation.append(acumulated_depreciation[-1]+depreciation)\n",
    "    \n",
    "    if time_line_values[-1]-depreciation<0:\n",
    "        time_line_values.append(0)\n",
    "    else:\n",
    "        time_line_values.append(time_line_values[-1]-depreciation)\n",
    "\n",
    "data={\"Years:\":[i for i in range(years+1)],\n",
    "      \"MacBook Price:\": time_line_values,\n",
    "      \"Acumulated Depreciation:\":acumulated_depreciation,\n",
    "      \"Depreciation:\":[depreciation for _ in range(years+1)]}\n",
    "df=pd.DataFrame(data)\n",
    "df"
   ]
  },
  {
   "cell_type": "markdown",
   "metadata": {},
   "source": [
    "Making a graphic representation of our data:\n",
    "<br>"
   ]
  },
  {
   "cell_type": "code",
   "execution_count": 3,
   "metadata": {
    "scrolled": true
   },
   "outputs": [
    {
     "data": {
      "text/plain": [
       "<Figure size 640x480 with 1 Axes>"
      ]
     },
     "metadata": {},
     "output_type": "display_data"
    }
   ],
   "source": [
    "from matplotlib import pyplot as plt\n",
    "import numpy as np\n",
    "    \n",
    "#plotting the results\n",
    "fig, axes = plt.subplots()\n",
    "index=np.arange(years+1)\n",
    "bar_width = 0.35\n",
    "opacity = 0.4\n",
    "\n",
    "rects1 = axes.bar(index,time_line_values, bar_width,alpha=opacity, color='b', label='Cost')\n",
    "\n",
    "def adding_label(rects):\n",
    "    \"\"\"\n",
    "    Displaying the value for each bar\n",
    "    \"\"\"\n",
    "    for rect in rects:\n",
    "        height = rect.get_height()\n",
    "        axes.text(rect.get_x() + rect.get_width()/2., height,\n",
    "                '%s' % round(height,2),\n",
    "                ha='center', va='bottom',color='b')\n",
    "adding_label(rects1)\n",
    "\n",
    "axes.set_xlabel('Years')\n",
    "axes.set_ylabel('Cost')\n",
    "axes.set_title('Asset Lifetime')\n",
    "axes.set_xticks(index)\n",
    "fig.tight_layout()\n",
    "plt.show()"
   ]
  },
  {
   "cell_type": "markdown",
   "metadata": {},
   "source": [
    "There are other depreciation methods that we can use, for example:\n",
    "\n",
    "### Double declinig balance\n",
    "\n",
    "This method is a form to acellerated  depreciation. The depreciation is greater in the first few years and smaller in the later years of an asset’s useful life. The method reflects the fact that assets are more productive in its early years than in its later years. The formula to calculate it is:\n",
    "\n",
    "-$Depreciation$ $Expense = (100\\% $ $/$ $Useful$ $life$ $of$ $asset)$ $*$ $2$\n",
    "<br>\n",
    "\n",
    "In our problem would be:\n",
    "\n",
    "Expense= $(100\\%/ 3) * 2 = 66.67\\%$\n",
    "\n",
    "The initial expense would be $Expense_0$ = $1499 * 66.67\\% = 999.38$, and our ending value $1499 - 999.38 = 499.62$.\n",
    "\n",
    "For the next year $Expense_1$ = $499.62 * 66.67\\% = 333.09$, and our ending value $499.62 - 333.09 = 166.52$.\n",
    "\n",
    "#### Disadvantages\n",
    "\n",
    "Based on the calculations, we are going to have a high value of depreciation just in the first year. Wich I think is not a good solution or approach for our problem, in order to analyse the real depreciation value of a Macbook. This method requires building an actual schedule and a much more detaild form of calculating depreciation. \n",
    "\n",
    "#### Advantages\n",
    "It is an convenience way if we want to analysis the  investment of a company in IT Equipment having a bigger depreciation in expense the first years and lower in the later years. Other example is if a company wants to lower their taxes, having bigger expenses the first years, getting less income subject to taxes the first years. \n",
    "\n",
    "\n",
    "### Units of production\n",
    "In this the depreciation expense varies each year, that is because the expense is based on the output that the assets produce. To calculate we apply this formula: \n",
    "\n",
    "-$Depreciation$ $Expense =$ $($$Number$ $of$ $units$ $produced$ $/$ $Life$ $in$ $number$ $of$ $units$$)$$*$ $($$Cost$ $-$ $Salvage$ $value)$\n",
    "\n",
    "#### Advantages\n",
    "This method is useful if we want to match the actual output of the business to the depreciation expense that it incurs. The expense is viewed in units, the depreciation expense is based on activity, we can call it units of activity. The formula is very similar to the straight line, but divided by the activity consumption. \n",
    "\n",
    "#### Disadvantages\n",
    "In our problem we can not represent the activity, since is not defined. Maybe if we can figure it out how to express this activity in our problem, this approach could worth it. A an example similar to our problems is with cars, but in that case we can define an amount of miles in order to represent the activity for the unit that we measure its life in miles.\n",
    "\n",
    "\n",
    "### Sum years of digits\n",
    "This method is one of the accelerated depreciation methods. As we described before, higher expense is incurred in the early years while lower expense is incurred in the latter years of the asset.\n",
    "\n",
    "$Depreciation$ $Expense$ $=$ $(Remaining$ $life$ $/$ $Sum$ $of$ $the$ $years$ $digits)$  $*$$(Cost$ $–$ $Salvage$ $value)$\n",
    "\n",
    "In our case:\n",
    "\n",
    "Defining the  $Depreciation$ $Base$ = $Cost$ – $Salvage$ $value$ (this value is constant throughout the process).\n",
    "\n",
    "$Depreciation$ $Base$ = $1499 - 0 = 1499$\n",
    "\n",
    "The remaining life ($RL$) is simply the remaining life of our asset. At the beginning of the process, the asset has a remaining life of 3 years. the Sum of the years ($SY$) would be $1+2+3=6$ years. Then, $RL$ $/$ $SY$ $= 3/6 = 0.5$.\n",
    "\n",
    "$Depreciation$ $Expense_0$ $=$ $0.5 * 1499 = 749.5$\n",
    "\n",
    "Let's write a Python code to calculate the complete process:"
   ]
  },
  {
   "cell_type": "code",
   "execution_count": 4,
   "metadata": {},
   "outputs": [
    {
     "data": {
      "text/html": [
       "<div>\n",
       "<style scoped>\n",
       "    .dataframe tbody tr th:only-of-type {\n",
       "        vertical-align: middle;\n",
       "    }\n",
       "\n",
       "    .dataframe tbody tr th {\n",
       "        vertical-align: top;\n",
       "    }\n",
       "\n",
       "    .dataframe thead th {\n",
       "        text-align: right;\n",
       "    }\n",
       "</style>\n",
       "<table border=\"1\" class=\"dataframe\">\n",
       "  <thead>\n",
       "    <tr style=\"text-align: right;\">\n",
       "      <th></th>\n",
       "      <th>Years:</th>\n",
       "      <th>MacBook Price:</th>\n",
       "      <th>Depreciations:</th>\n",
       "      <th>Acumulated Depreciation:</th>\n",
       "      <th>Depreciation Base:</th>\n",
       "    </tr>\n",
       "  </thead>\n",
       "  <tbody>\n",
       "    <tr>\n",
       "      <th>0</th>\n",
       "      <td>0</td>\n",
       "      <td>1499.00</td>\n",
       "      <td>0.00</td>\n",
       "      <td>0.00</td>\n",
       "      <td>1499</td>\n",
       "    </tr>\n",
       "    <tr>\n",
       "      <th>1</th>\n",
       "      <td>1</td>\n",
       "      <td>749.50</td>\n",
       "      <td>749.50</td>\n",
       "      <td>749.50</td>\n",
       "      <td>1499</td>\n",
       "    </tr>\n",
       "    <tr>\n",
       "      <th>2</th>\n",
       "      <td>2</td>\n",
       "      <td>249.83</td>\n",
       "      <td>499.67</td>\n",
       "      <td>1249.17</td>\n",
       "      <td>1499</td>\n",
       "    </tr>\n",
       "    <tr>\n",
       "      <th>3</th>\n",
       "      <td>3</td>\n",
       "      <td>0.00</td>\n",
       "      <td>249.83</td>\n",
       "      <td>1499.00</td>\n",
       "      <td>1499</td>\n",
       "    </tr>\n",
       "  </tbody>\n",
       "</table>\n",
       "</div>"
      ],
      "text/plain": [
       "   Years:  MacBook Price:  Depreciations:  Acumulated Depreciation:  \\\n",
       "0       0         1499.00            0.00                      0.00   \n",
       "1       1          749.50          749.50                    749.50   \n",
       "2       2          249.83          499.67                   1249.17   \n",
       "3       3            0.00          249.83                   1499.00   \n",
       "\n",
       "   Depreciation Base:  \n",
       "0                1499  \n",
       "1                1499  \n",
       "2                1499  \n",
       "3                1499  "
      ]
     },
     "execution_count": 4,
     "metadata": {},
     "output_type": "execute_result"
    }
   ],
   "source": [
    "def sum_years_method(cost, salvage_value, years):\n",
    "    depreciation_base = cost - salvage_value\n",
    "    depreciation = [0]\n",
    "    asset_values = [1499]\n",
    "    acumulated_depreciation = [0]\n",
    "    sy = sum([y for y in range(years + 1)])\n",
    "\n",
    "    for y in range(years, 0, -1):\n",
    "        current_depreciation = y / sy * depreciation_base\n",
    "        acumulated_depreciation.append(round(acumulated_depreciation[-1] + current_depreciation,2))\n",
    "        depreciation.append(round(current_depreciation,2))\n",
    "        current_value = asset_values[-1] - current_depreciation\n",
    "        if current_value > 0:\n",
    "            asset_values.append(round(current_value,2))\n",
    "        else:\n",
    "            asset_values.append(0)\n",
    "\n",
    "    return asset_values, depreciation, acumulated_depreciation, depreciation_base\n",
    "\n",
    "cost = 1499\n",
    "salvage_value = 0\n",
    "years = 3\n",
    "\n",
    "values, depreciation_expense, acumulated_depreciation, depreciation_base = sum_years_method(cost,\n",
    "                                                                                            salvage_value,\n",
    "                                                                                            years)\n",
    "\n",
    "data = {\"Years:\": [i for i in range(years + 1)],\n",
    "        \"MacBook Price:\": values,\n",
    "        \"Depreciations:\": depreciation_expense,\n",
    "        \"Acumulated Depreciation:\": acumulated_depreciation,\n",
    "        \"Depreciation Base:\": [depreciation_base for _ in range(years + 1)]}\n",
    "df = pd.DataFrame(data)\n",
    "df"
   ]
  },
  {
   "cell_type": "markdown",
   "metadata": {},
   "source": [
    "As we can see, the depreciation values decrease faster with this method compared to the straight line, but it fits the lifetime of our asset. The next graphic show us the difference of the outputs between $Straight$ $Line$ and $Sum$ $of$ $Year$ $Digits$."
   ]
  },
  {
   "cell_type": "code",
   "execution_count": 5,
   "metadata": {},
   "outputs": [
    {
     "data": {
      "image/png": "[encoded data removed]",
      "text/plain": [
       "<Figure size 432x288 with 1 Axes>"
      ]
     },
     "metadata": {
      "needs_background": "light"
     },
     "output_type": "display_data"
    }
   ],
   "source": [
    "fig, axes = plt.subplots()\n",
    "\n",
    "rects2 = axes.bar(index,values, bar_width,alpha=opacity, color='r', label='Cost')\n",
    "rects1 = axes.bar(index+bar_width,time_line_values, bar_width,alpha=opacity, color='b', label='Cost')\n",
    "adding_label(rects2)\n",
    "adding_label(rects1)\n",
    "\n",
    "axes.set_xlabel('Years')\n",
    "axes.set_ylabel('Cost')\n",
    "axes.set_title('Asset Lifetime')\n",
    "axes.set_xticks(index)\n",
    "axes.legend((rects1[0], rects2[0]), ('Straight Line', 'Sum Year Digits'))\n",
    "fig.tight_layout()\n",
    "plt.show()"
   ]
  },
  {
   "cell_type": "markdown",
   "metadata": {},
   "source": [
    "#### Advantage\n",
    "<br>\n",
    "This method fits in the time life of the asset and it has a dynamic way to calculate the depreciation.\n",
    "\n",
    "#### Disadvantage\n",
    "The values of the depreciation decrease to fast in the first years and an asset like Macbooks, Computers should have a lower value of depreciation considering their cost."
   ]
  }
 ],
 "metadata": {
  "kernelspec": {
   "display_name": "Python 3",
   "language": "python",
   "name": "python3"
  },
  "language_info": {
   "codemirror_mode": {
    "name": "ipython",
    "version": 3
   },
   "file_extension": ".py",
   "mimetype": "text/x-python",
   "name": "python",
   "nbconvert_exporter": "python",
   "pygments_lexer": "ipython3",
   "version": "3.7.1"
  }
 },
 "nbformat": 4,
 "nbformat_minor": 2
}
